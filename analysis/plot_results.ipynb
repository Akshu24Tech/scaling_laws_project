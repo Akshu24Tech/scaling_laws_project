{
 "cells": [
  {
   "cell_type": "code",
   "execution_count": null,
   "metadata": {
    "vscode": {
     "languageId": "plaintext"
    }
   },
   "outputs": [],
   "source": [
    "import pandas as pd\n",
    "import matplotlib.pyplot as plt\n",
    "import numpy as np\n",
    "\n",
    "# Load the results we saved from our training runs\n",
    "data = pd.read_csv('results.csv')"
   ]
  },
  {
   "cell_type": "code",
   "execution_count": null,
   "metadata": {
    "vscode": {
     "languageId": "plaintext"
    }
   },
   "outputs": [],
   "source": [
    "params = data['params']\n",
    "loss = data['loss']\n",
    "\n",
    "plt.figure(figsize=(8, 6))\n",
    "# Plot the data points\n",
    "plt.scatter(params, loss, label=\"Our Experimental Results\")"
   ]
  },
  {
   "cell_type": "code",
   "execution_count": null,
   "metadata": {
    "vscode": {
     "languageId": "plaintext"
    }
   },
   "outputs": [],
   "source": [
    "plt.xscale('log')\n",
    "plt.yscale('log')\n",
    "\n",
    "plt.title('Performance vs. Model Size (Log-Log Scale)')\n",
    "plt.xlabel('Non-Embedding Parameters (N)')\n",
    "plt.ylabel('Validation Loss (L)')\n",
    "plt.grid(True)\n",
    "plt.legend()\n",
    "plt.show()"
   ]
  }
 ],
 "metadata": {
  "language_info": {
   "name": "python"
  }
 },
 "nbformat": 4,
 "nbformat_minor": 2
}
